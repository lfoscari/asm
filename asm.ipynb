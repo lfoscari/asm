{
 "cells": [
  {
   "cell_type": "code",
   "execution_count": 69,
   "metadata": {},
   "outputs": [],
   "source": [
    "import numpy as np\n",
    "from itertools import accumulate\n",
    "from functools import reduce\n",
    "\n",
    "N = 10\n",
    "PRECISION = 10\n",
    "\n",
    "SYMBOLS \t  = [   0,    1,    2]\n",
    "PROBABILITIES = [9/10, 1/30, 2/30]"
   ]
  },
  {
   "cell_type": "markdown",
   "metadata": {},
   "source": [
    "Now generate a sequence of symbols from the given alphabet according to the given probabilities. Then compress and decompress this sequence."
   ]
  },
  {
   "cell_type": "code",
   "execution_count": 61,
   "metadata": {},
   "outputs": [],
   "source": [
    "# sequence = np.random.choice(SYMBOLS, N, p=PROBABILITIES)\n",
    "sequence = [0, 0, 0, 0, 0, 1, 0, 0, 0, 2, 0, 0]"
   ]
  },
  {
   "cell_type": "code",
   "execution_count": 131,
   "metadata": {},
   "outputs": [
    {
     "name": "stdout",
     "output_type": "stream",
     "text": [
      "Symbol: 0\n",
      "  Class size: 922\n",
      "  Class edge (cumulative): 0\n",
      "\n",
      "Symbol: 1\n",
      "  Class size: 34\n",
      "  Class edge (cumulative): 922\n",
      "\n",
      "Symbol: 2\n",
      "  Class size: 68\n",
      "  Class edge (cumulative): 956\n",
      "\n"
     ]
    }
   ],
   "source": [
    "# f_s -> classes_sizes\n",
    "# c_s -> classes_edges\n",
    "\n",
    "classes_sizes = [int(np.round(p * 2 ** PRECISION)) for p in PROBABILITIES]\n",
    "*classes_edges, sanity = list(accumulate(classes_sizes, initial=0))\n",
    "\n",
    "for s in SYMBOLS:\n",
    "\tprint(f\"Symbol: {s}\\n  Class size: {classes_sizes[s]}\\n  Class edge (cumulative): {classes_edges[s]}\\n\")\n",
    "\n",
    "assert sanity == 2 ** PRECISION"
   ]
  },
  {
   "cell_type": "code",
   "execution_count": 142,
   "metadata": {},
   "outputs": [],
   "source": [
    "def push(representation, symbol):\n",
    "\tprint(\"\\t\", f\"(|{representation}/{classes_sizes[symbol]}| << {PRECISION}) + {classes_edges[symbol]} + {representation % classes_sizes[symbol]}\")\n",
    "\treturn ( int(representation / classes_sizes[symbol]) << PRECISION ) + \\\n",
    "\t\tclasses_edges[symbol] + representation % classes_sizes[symbol]"
   ]
  },
  {
   "cell_type": "code",
   "execution_count": 144,
   "metadata": {},
   "outputs": [
    {
     "name": "stdout",
     "output_type": "stream",
     "text": [
      "Symbol 0\n",
      "\t (|0/922| << 10) + 0 + 0\n",
      "\t 0  =>  0\n",
      "Symbol 0\n",
      "\t (|0/922| << 10) + 0 + 0\n",
      "\t 0  =>  0\n",
      "Symbol 0\n",
      "\t (|0/922| << 10) + 0 + 0\n",
      "\t 0  =>  0\n",
      "Symbol 0\n",
      "\t (|0/922| << 10) + 0 + 0\n",
      "\t 0  =>  0\n",
      "Symbol 0\n",
      "\t (|0/922| << 10) + 0 + 0\n",
      "\t 0  =>  0\n",
      "Symbol 1\n",
      "\t (|0/34| << 10) + 922 + 0\n",
      "\t 0  =>  922\n",
      "Symbol 0\n",
      "\t (|922/922| << 10) + 0 + 0\n",
      "\t 922  =>  1024\n",
      "Symbol 0\n",
      "\t (|1024/922| << 10) + 0 + 102\n",
      "\t 1024  =>  1126\n",
      "Symbol 0\n",
      "\t (|1126/922| << 10) + 0 + 204\n",
      "\t 1126  =>  1228\n",
      "Symbol 2\n",
      "\t (|1228/68| << 10) + 956 + 4\n",
      "\t 1228  =>  19392\n",
      "Symbol 0\n",
      "\t (|19392/922| << 10) + 0 + 30\n",
      "\t 19392  =>  21534\n",
      "Symbol 0\n",
      "\t (|21534/922| << 10) + 0 + 328\n",
      "\t 21534  =>  23880\n"
     ]
    }
   ],
   "source": [
    "representation = 0\n",
    "for i, s in enumerate(sequence):\n",
    "\tprint(\"Symbol\", s)\n",
    "\told_representation = representation\n",
    "\trepresentation = push(representation, s)\n",
    "\tprint(\"\\t\", old_representation, \" => \", representation)\n",
    "\n",
    "# representation = reduce(push, sequence, 0)\n",
    "# representation"
   ]
  },
  {
   "cell_type": "code",
   "execution_count": 39,
   "metadata": {},
   "outputs": [],
   "source": [
    "def pop():\n",
    "\tglobal representation\n",
    "\tsymbol = representation % np.power(2, PRECISION)\n",
    "\trepresentation = ( representation / 2 ** PRECISION ) * classes_sizes[symbol] + symbol - classes_edges[symbol]\n",
    "\treturn symbol"
   ]
  },
  {
   "cell_type": "code",
   "execution_count": null,
   "metadata": {},
   "outputs": [],
   "source": [
    "for symbol in sequence:\n",
    "\tassert symbol == pop()\n",
    "\n",
    "print(\"It worked\")"
   ]
  },
  {
   "cell_type": "code",
   "execution_count": 147,
   "metadata": {},
   "outputs": [
    {
     "data": {
      "text/plain": [
       "1228"
      ]
     },
     "execution_count": 147,
     "metadata": {},
     "output_type": "execute_result"
    }
   ],
   "source": [
    "# (|1126/922| << 10) + 0 + 204\n",
    "((1126 // 922) << 10 ) + 0 + 204"
   ]
  },
  {
   "cell_type": "code",
   "execution_count": null,
   "metadata": {},
   "outputs": [],
   "source": []
  }
 ],
 "metadata": {
  "interpreter": {
   "hash": "e7370f93d1d0cde622a1f8e1c04877d8463912d04d973331ad4851f04de6915a"
  },
  "kernelspec": {
   "display_name": "Python 3.9.7 64-bit",
   "name": "python3"
  },
  "language_info": {
   "codemirror_mode": {
    "name": "ipython",
    "version": 3
   },
   "file_extension": ".py",
   "mimetype": "text/x-python",
   "name": "python",
   "nbconvert_exporter": "python",
   "pygments_lexer": "ipython3",
   "version": "3.9.7"
  },
  "orig_nbformat": 4
 },
 "nbformat": 4,
 "nbformat_minor": 2
}
