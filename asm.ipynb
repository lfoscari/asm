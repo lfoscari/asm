{
 "cells": [
  {
   "cell_type": "code",
   "execution_count": 1,
   "metadata": {},
   "outputs": [],
   "source": [
    "import numpy as np\n",
    "from itertools import accumulate\n",
    "from functools import reduce\n",
    "\n",
    "N = 10\n",
    "PRECISION = 10\n",
    "\n",
    "SYMBOLS \t  = [   0,    1,    2]\n",
    "PROBABILITIES = [9/10, 1/30, 2/30]"
   ]
  },
  {
   "cell_type": "markdown",
   "metadata": {},
   "source": [
    "Now generate a sequence of symbols from the given alphabet according to the given probabilities. Then compress and decompress this sequence."
   ]
  },
  {
   "cell_type": "code",
   "execution_count": 2,
   "metadata": {},
   "outputs": [],
   "source": [
    "# sequence = np.random.choice(SYMBOLS, N, p=PROBABILITIES)\n",
    "sequence = [0, 0, 0, 0, 0, 1, 0, 0, 0, 2, 0, 0]"
   ]
  },
  {
   "cell_type": "code",
   "execution_count": 3,
   "metadata": {},
   "outputs": [
    {
     "name": "stdout",
     "output_type": "stream",
     "text": [
      "Symbol: 0\n",
      "  Class size: 922\n",
      "  Class edge (cumulative): 0\n",
      "\n",
      "Symbol: 1\n",
      "  Class size: 34\n",
      "  Class edge (cumulative): 922\n",
      "\n",
      "Symbol: 2\n",
      "  Class size: 68\n",
      "  Class edge (cumulative): 956\n",
      "\n"
     ]
    }
   ],
   "source": [
    "# f_s := classes_size\n",
    "# c_s := classes_edges\n",
    "\n",
    "classes_size = [int(np.round(p * 2 ** PRECISION)) for p in PROBABILITIES]\n",
    "*classes_edge, sanity = list(accumulate(classes_size, initial=0))\n",
    "\n",
    "for s in SYMBOLS:\n",
    "\tprint(f\"Symbol: {s}\\n  Class size: {classes_size[s]}\\n  Class edge (cumulative): {classes_edge[s]}\\n\")\n",
    "\n",
    "assert sanity == 2 ** PRECISION"
   ]
  },
  {
   "cell_type": "code",
   "execution_count": 4,
   "metadata": {},
   "outputs": [],
   "source": [
    "def push(representation, symbol):\n",
    "\t# print(\"\\t\", f\"(|{representation}/{classes_size[symbol]}| << {PRECISION}) + {classes_edge[symbol]} + {representation % classes_size[symbol]}\")\n",
    "\treturn ( int(representation / classes_size[symbol]) << PRECISION ) + \\\n",
    "\t\tclasses_edge[symbol] + representation % classes_size[symbol]"
   ]
  },
  {
   "cell_type": "code",
   "execution_count": 15,
   "metadata": {},
   "outputs": [],
   "source": [
    "def sym(offset):\n",
    "\treturn next(iter(i for i, s in enumerate(classes_edge) if s > offset), len(classes_edge)) - 1\n"
   ]
  },
  {
   "cell_type": "code",
   "execution_count": 18,
   "metadata": {},
   "outputs": [],
   "source": [
    "def pop(representation):\n",
    "\toffset = representation % ( 2 ** PRECISION )\n",
    "\tsymbol = sym(representation % ( 2 ** PRECISION ))\n",
    "\t# print(offset, symbol)\n",
    "\tnew_representation = ( representation >> PRECISION ) * classes_size[symbol] + offset - classes_edge[symbol]\n",
    "\treturn new_representation, symbol"
   ]
  },
  {
   "cell_type": "code",
   "execution_count": 24,
   "metadata": {},
   "outputs": [
    {
     "name": "stdout",
     "output_type": "stream",
     "text": [
      "23880\n",
      "It worked!\n"
     ]
    }
   ],
   "source": [
    "# Encode\n",
    "representation = reduce(push, sequence, 0)\n",
    "\n",
    "print(representation)\n",
    "\n",
    "# Decode\n",
    "for symbol in sequence[::-1]:\n",
    "\trepresentation, _symbol = pop(representation)\n",
    "\tassert symbol == _symbol, (symbol, _symbol)\n",
    "\n",
    "print(\"It worked!\")"
   ]
  }
 ],
 "metadata": {
  "interpreter": {
   "hash": "e7370f93d1d0cde622a1f8e1c04877d8463912d04d973331ad4851f04de6915a"
  },
  "kernelspec": {
   "display_name": "Python 3.9.7 64-bit",
   "name": "python3"
  },
  "language_info": {
   "codemirror_mode": {
    "name": "ipython",
    "version": 3
   },
   "file_extension": ".py",
   "mimetype": "text/x-python",
   "name": "python",
   "nbconvert_exporter": "python",
   "pygments_lexer": "ipython3",
   "version": "3.9.7"
  },
  "orig_nbformat": 4
 },
 "nbformat": 4,
 "nbformat_minor": 2
}
