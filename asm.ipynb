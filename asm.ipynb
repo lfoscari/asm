{
 "cells": [
  {
   "cell_type": "code",
   "execution_count": 54,
   "metadata": {},
   "outputs": [],
   "source": [
    "import numpy as np\n",
    "from itertools import accumulate\n",
    "from functools import reduce\n",
    "\n",
    "N = 100\t\t\t# n\n",
    "PRECISION = 10\t# d\n",
    "\n",
    "SEQUENCE\t  = [0, 0, 0, 0, 0, 1, 0, 0, 0, 2, 0, 0]\n",
    "SYMBOLS \t  = {0, 1, 2}\t\t\t# s\n",
    "PROBABILITIES = [9/10, 1/30, 2/30]\t# p_s"
   ]
  },
  {
   "cell_type": "code",
   "execution_count": 55,
   "metadata": {},
   "outputs": [],
   "source": [
    "# In case you want to generate a new sequence\n",
    "# sequence = np.random.choice(SYMBOLS, N, p=PROBABILITIES)"
   ]
  },
  {
   "cell_type": "code",
   "execution_count": 83,
   "metadata": {},
   "outputs": [
    {
     "name": "stdout",
     "output_type": "stream",
     "text": [
      "Symbol: '0'\n",
      "  Class size: 922\n",
      "  Class edge (cumulative): 0\n",
      "\n",
      "Symbol: '1'\n",
      "  Class size: 34\n",
      "  Class edge (cumulative): 922\n",
      "\n",
      "Symbol: '2'\n",
      "  Class size: 68\n",
      "  Class edge (cumulative): 956\n",
      "\n"
     ]
    }
   ],
   "source": [
    "# f_s := classes_size\n",
    "# c_s := classes_edges\n",
    "\n",
    "classes_size = [int(np.round(p * 2 ** PRECISION)) for p in PROBABILITIES]\t# f_s\n",
    "*classes_edge, sanity = list(accumulate(classes_size, initial=0))\t\t\t# c_s\n",
    "\n",
    "for s in SYMBOLS:\n",
    "\tprint(f\"Symbol: '{s}'\\n  Class size: {classes_size[s]}\\n  Class edge (cumulative): {classes_edge[s]}\\n\")\n",
    "\n",
    "assert sanity == 2 ** PRECISION, (sanity, 2 ** PRECISION)"
   ]
  },
  {
   "cell_type": "code",
   "execution_count": 117,
   "metadata": {},
   "outputs": [],
   "source": [
    "def push(representation, symbol):\n",
    "\tprint(representation, f\"\\n(|{representation}/{classes_size[symbol]}| << {PRECISION}) + {classes_edge[symbol]} + {representation % classes_size[symbol]}\", end=\" = \")\n",
    "\treturn ( int(representation / classes_size[symbol]) << PRECISION ) + \\\n",
    "\t\tclasses_edge[symbol] + representation % classes_size[symbol]"
   ]
  },
  {
   "cell_type": "code",
   "execution_count": 118,
   "metadata": {},
   "outputs": [],
   "source": [
    "def sym(offset):\n",
    "\treturn next(iter(i for i, s in enumerate(classes_edge) if s > offset), len(classes_edge)) - 1"
   ]
  },
  {
   "cell_type": "code",
   "execution_count": 119,
   "metadata": {},
   "outputs": [],
   "source": [
    "def pop(representation):\n",
    "\toffset = representation % ( 2 ** PRECISION )\n",
    "\tsymbol = sym(representation % 2 ** PRECISION)\n",
    "\tnew_representation = ( representation >> PRECISION ) * classes_size[symbol] + offset - classes_edge[symbol]\n",
    "\treturn new_representation, symbol"
   ]
  },
  {
   "cell_type": "code",
   "execution_count": 124,
   "metadata": {},
   "outputs": [
    {
     "name": "stdout",
     "output_type": "stream",
     "text": [
      "Encoding...\n",
      "\n",
      "Initial representation: 0 \n",
      "(|0/922| << 10) + 0 + 0 = 0 \n",
      "(|0/922| << 10) + 0 + 0 = 0 \n",
      "(|0/922| << 10) + 0 + 0 = 0 \n",
      "(|0/922| << 10) + 0 + 0 = 0 \n",
      "(|0/922| << 10) + 0 + 0 = 0 \n",
      "(|0/34| << 10) + 922 + 0 = 922 \n",
      "(|922/922| << 10) + 0 + 0 = 1024 \n",
      "(|1024/922| << 10) + 0 + 102 = 1126 \n",
      "(|1126/922| << 10) + 0 + 204 = 1228 \n",
      "(|1228/68| << 10) + 956 + 4 = 19392 \n",
      "(|19392/922| << 10) + 0 + 30 = 21534 \n",
      "(|21534/922| << 10) + 0 + 328 = 23880\n",
      "\n",
      "Decoding... done!\n"
     ]
    }
   ],
   "source": [
    "# Encode\n",
    "print(\"Encoding...\\n\")\n",
    "print(\"Initial representation\", end=\": \")\n",
    "representation = reduce(push, SEQUENCE, 0)\n",
    "\n",
    "print(representation)\n",
    "print(\"\\nDecoding...\", end=\"\")\n",
    "\n",
    "# Decode\n",
    "for symbol in SEQUENCE[::-1]:\n",
    "\trepresentation, _symbol = pop(representation)\n",
    "\tassert symbol == _symbol, (symbol, _symbol)\n",
    "\n",
    "print(\" done!\")"
   ]
  },
  {
   "cell_type": "code",
   "execution_count": 137,
   "metadata": {},
   "outputs": [
    {
     "name": "stdout",
     "output_type": "stream",
     "text": [
      "Original [0, 0, 2, 0, 0, 0, 1, 0, 0, 0, 0, 0]\n",
      "Decoded  [0, 0, 2, 0, 0, 0, 0, 1, 0, 0, 0, 0]\n"
     ]
    }
   ],
   "source": [
    "# Rappresentazione mostrata nella dispensa\n",
    "representation = 25142\n",
    "_sequence = []\n",
    "\n",
    "for symbol in SEQUENCE:\n",
    "\trepresentation, _symbol = pop(representation)\n",
    "\t_sequence.append(_symbol)\n",
    "\n",
    "print(\"Original\", SEQUENCE[::-1])\n",
    "print(\"Decoded \", _sequence)"
   ]
  },
  {
   "cell_type": "code",
   "execution_count": null,
   "metadata": {},
   "outputs": [],
   "source": []
  }
 ],
 "metadata": {
  "interpreter": {
   "hash": "e7370f93d1d0cde622a1f8e1c04877d8463912d04d973331ad4851f04de6915a"
  },
  "kernelspec": {
   "display_name": "Python 3.9.7 64-bit",
   "name": "python3"
  },
  "language_info": {
   "codemirror_mode": {
    "name": "ipython",
    "version": 3
   },
   "file_extension": ".py",
   "mimetype": "text/x-python",
   "name": "python",
   "nbconvert_exporter": "python",
   "pygments_lexer": "ipython3",
   "version": "3.9.7"
  },
  "orig_nbformat": 4
 },
 "nbformat": 4,
 "nbformat_minor": 2
}
